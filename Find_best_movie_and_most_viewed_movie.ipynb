{
  "nbformat": 4,
  "nbformat_minor": 0,
  "metadata": {
    "colab": {
      "provenance": [],
      "authorship_tag": "ABX9TyPeN4cpyy0V5rj2nFQnLLLJ",
      "include_colab_link": true
    },
    "kernelspec": {
      "name": "python3",
      "display_name": "Python 3"
    },
    "language_info": {
      "name": "python"
    }
  },
  "cells": [
    {
      "cell_type": "markdown",
      "metadata": {
        "id": "view-in-github",
        "colab_type": "text"
      },
      "source": [
        "<a href=\"https://colab.research.google.com/github/dasipsita/Find-best-movie-and-most-viewed-movie/blob/main/Find_best_movie_and_most_viewed_movie.ipynb\" target=\"_parent\"><img src=\"https://colab.research.google.com/assets/colab-badge.svg\" alt=\"Open In Colab\"/></a>"
      ]
    },
    {
      "cell_type": "markdown",
      "source": [
        "A movie database contains user review rating of  10,000+ movies released before Year 2000\n",
        "Using Python Scripts or SQL Queries, find\n",
        "\n",
        "\n",
        "1) Movie watched by most number people (irrespective of the ratings given by user)\n",
        "\n",
        "\n",
        "2) Top 5 Best movies (Based on more number of people watched and given higher rating) \n"
      ],
      "metadata": {
        "id": "gAaMgwXp50Sh"
      }
    },
    {
      "cell_type": "markdown",
      "source": [
        "###Install Packages"
      ],
      "metadata": {
        "id": "GtHUqiliROP_"
      }
    },
    {
      "cell_type": "code",
      "execution_count": null,
      "metadata": {
        "id": "hgoS_0xZ4485"
      },
      "outputs": [],
      "source": [
        "!pip install db-sqlite3\n"
      ]
    },
    {
      "cell_type": "markdown",
      "source": [
        "###Create a table"
      ],
      "metadata": {
        "id": "ZnhqNay4M7nn"
      }
    },
    {
      "cell_type": "code",
      "source": [
        "import sqlite3\n",
        "con = sqlite3.connect(\"MovieReviews.db\")\n",
        "cur = con.cursor()\n",
        "cur.execute(\"CREATE TABLE Movie(MovieId varchar, ReleaseDate varchar, UserID varchar, Rating int)\")"
      ],
      "metadata": {
        "colab": {
          "base_uri": "https://localhost:8080/"
        },
        "id": "xoM9WMMk6KU6",
        "outputId": "00dcfe62-1b08-4cb8-e972-2c890b3dbb77"
      },
      "execution_count": null,
      "outputs": [
        {
          "output_type": "execute_result",
          "data": {
            "text/plain": [
              "<sqlite3.Cursor at 0x7ff43d6b31f0>"
            ]
          },
          "metadata": {},
          "execution_count": 278
        }
      ]
    },
    {
      "cell_type": "markdown",
      "source": [
        "###Insert data "
      ],
      "metadata": {
        "id": "mUz-gbzBNAny"
      }
    },
    {
      "cell_type": "code",
      "source": [
        "cur.execute(\"\"\" \n",
        "INSERT INTO Movie VALUES\n",
        "    ('Movie1', 'March 1993', 'User1', 6),\n",
        "    ('Movie1', 'March 1993', 'User3', 2),\n",
        "    ('Movie1', 'March 1993', 'User2', 8),\n",
        "    ('Movie1', 'March 1993', 'User5', 1),\n",
        "    ('Movie1', 'March 1993', 'User4', 3),\n",
        "    ('Movie1', 'March 1993', 'User6', 6),\n",
        "    ('Movie2', 'March 1987', 'User5', 6),\n",
        "    ('Movie2', 'March 1987', 'User4', 3),\n",
        "    ('Movie2', 'March 1987', 'User2', 6),\n",
        "    ('Movie3', 'March 1987', 'User5', 6),\n",
        "    ('Movie3', 'March 1987', 'User1', 6),\n",
        "    ('Movie4', 'March 1996', 'User3', 9),\n",
        "    ('Movie4', 'March 1996', 'User1', 5),\n",
        "    ('Movie5', 'March 1995', 'User1', 6),\n",
        "    ('Movie5', 'March 1995', 'User4', 6),\n",
        "    ('Movie5', 'March 1995', 'User3', 2),\n",
        "    ('Movie5', 'March 1995', 'User2', 8),\n",
        "    ('Movie5', 'March 1995', 'User5', 1),\n",
        "    ('Movie5', 'March 1995', 'User6', 3),\n",
        "    ('Movie6', 'March 1996', 'User2', 6),\n",
        "    ('Movie6', 'March 1996', 'User5', 6),\n",
        "    ('Movie6', 'March 1996', 'User3', 9),\n",
        "    ('Movie7', 'March 1996', 'User1', 5),\n",
        "    ('Movie8', 'March 1990', 'User3', 4)  \"\"\")\n",
        "\n",
        "con.commit()"
      ],
      "metadata": {
        "id": "2wC7JXou7bBc"
      },
      "execution_count": null,
      "outputs": []
    },
    {
      "cell_type": "markdown",
      "source": [
        "###Check the table"
      ],
      "metadata": {
        "id": "bAs1f4q_ALGV"
      }
    },
    {
      "cell_type": "code",
      "source": [
        "details = cur.execute(\"SELECT * FROM Movie\")\n",
        "details.fetchall()"
      ],
      "metadata": {
        "colab": {
          "base_uri": "https://localhost:8080/"
        },
        "id": "viB4nViiAOvi",
        "outputId": "dbda9705-0d82-4516-83a3-f5c2f771007d"
      },
      "execution_count": null,
      "outputs": [
        {
          "output_type": "execute_result",
          "data": {
            "text/plain": [
              "[('Movie1', 'March 1993', 'User1', 6),\n",
              " ('Movie1', 'March 1993', 'User3', 2),\n",
              " ('Movie1', 'March 1993', 'User2', 8),\n",
              " ('Movie1', 'March 1993', 'User5', 1),\n",
              " ('Movie1', 'March 1993', 'User4', 3),\n",
              " ('Movie1', 'March 1993', 'User6', 6),\n",
              " ('Movie2', 'March 1987', 'User5', 6),\n",
              " ('Movie2', 'March 1987', 'User4', 3),\n",
              " ('Movie2', 'March 1987', 'User2', 6),\n",
              " ('Movie3', 'March 1987', 'User5', 6),\n",
              " ('Movie3', 'March 1987', 'User1', 6),\n",
              " ('Movie4', 'March 1996', 'User3', 9),\n",
              " ('Movie4', 'March 1996', 'User1', 5),\n",
              " ('Movie5', 'March 1995', 'User1', 6),\n",
              " ('Movie5', 'March 1995', 'User4', 6),\n",
              " ('Movie5', 'March 1995', 'User3', 2),\n",
              " ('Movie5', 'March 1995', 'User2', 8),\n",
              " ('Movie5', 'March 1995', 'User5', 1),\n",
              " ('Movie5', 'March 1995', 'User6', 3),\n",
              " ('Movie6', 'March 1996', 'User2', 6),\n",
              " ('Movie6', 'March 1996', 'User5', 6),\n",
              " ('Movie6', 'March 1996', 'User3', 9),\n",
              " ('Movie7', 'March 1996', 'User1', 5),\n",
              " ('Movie8', 'March 1990', 'User3', 4)]"
            ]
          },
          "metadata": {},
          "execution_count": 280
        }
      ]
    },
    {
      "cell_type": "markdown",
      "source": [
        "###Get the list of the movies"
      ],
      "metadata": {
        "id": "-5rSEU9b_o2i"
      }
    },
    {
      "cell_type": "code",
      "source": [
        "movieList = []\n",
        "for movie in cur.execute(\"SELECT MovieId FROM Movie\"):\n",
        "  if movie not in movieList:\n",
        "    movieList.append(movie)"
      ],
      "metadata": {
        "id": "eYHdNKO4_vJ2"
      },
      "execution_count": null,
      "outputs": []
    },
    {
      "cell_type": "markdown",
      "source": [
        "###Find most viewed movie"
      ],
      "metadata": {
        "id": "vqvP-EjfGV1e"
      }
    },
    {
      "cell_type": "code",
      "source": [
        "best_movie = ''\n",
        "max_views = 0\n",
        "\n",
        "for movie in movieList:\n",
        "  numofviewer = cur.execute(\"SELECT UserId FROM Movie WHERE MovieId=?\", (movie))\n",
        "  count = len(numofviewer.fetchall())\n",
        "  if count >= max_views:\n",
        "    best_movie = movie[0]\n",
        "    max_views = count  \n",
        "\n",
        "print (best_movie, \":\", max_views)\n",
        "  "
      ],
      "metadata": {
        "colab": {
          "base_uri": "https://localhost:8080/"
        },
        "id": "97mO3wVVAjKn",
        "outputId": "a9871dee-cfe9-42a7-c417-a70f0b9765a2"
      },
      "execution_count": null,
      "outputs": [
        {
          "output_type": "stream",
          "name": "stdout",
          "text": [
            "Movie5 : 6\n"
          ]
        }
      ]
    },
    {
      "cell_type": "markdown",
      "source": [
        "###Find top 5 best movies\n"
      ],
      "metadata": {
        "id": "tQpP4HaaGg8y"
      }
    },
    {
      "cell_type": "code",
      "source": [
        "score = 0\n",
        "movie_with_score = {}\n",
        "\n",
        "for movie in movieList:\n",
        "  sum = 0\n",
        "  num_of_viewer = cur.execute(\"SELECT Rating FROM Movie WHERE MovieId=?\", (movie))\n",
        "  result = (num_of_viewer.fetchall())\n",
        "  for i in result:\n",
        "    sum += i[0]\n",
        "  score = sum/len(result)\n",
        "  movie_with_score.update({movie[0]:round(score, 1)})\n",
        "\n",
        "top_5_movies = (sorted(movie_with_score.items(), key=lambda x: x[1], reverse=True))[0:5]\n",
        "print (top_5_movies)\n"
      ],
      "metadata": {
        "colab": {
          "base_uri": "https://localhost:8080/"
        },
        "id": "arYDm5xMGj6w",
        "outputId": "352424de-0c99-4789-8d3a-245bc35fe5df"
      },
      "execution_count": null,
      "outputs": [
        {
          "output_type": "stream",
          "name": "stdout",
          "text": [
            "[('Movie4', 7.0), ('Movie6', 7.0), ('Movie3', 6.0), ('Movie2', 5.0), ('Movie7', 5.0)]\n"
          ]
        }
      ]
    }
  ]
}